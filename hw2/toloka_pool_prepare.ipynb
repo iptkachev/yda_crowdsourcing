{
  "nbformat": 4,
  "nbformat_minor": 0,
  "metadata": {
    "colab": {
      "provenance": [],
      "authorship_tag": "ABX9TyMqfDypKMvV4S7ALOBVcpFM",
      "include_colab_link": true
    },
    "kernelspec": {
      "name": "python3",
      "display_name": "Python 3"
    },
    "language_info": {
      "name": "python"
    }
  },
  "cells": [
    {
      "cell_type": "markdown",
      "metadata": {
        "id": "view-in-github",
        "colab_type": "text"
      },
      "source": [
        "<a href=\"https://colab.research.google.com/github/iptkachev/yda_crowdsourcing/blob/main/hw2/toloka_pool_prepare.ipynb\" target=\"_parent\"><img src=\"https://colab.research.google.com/assets/colab-badge.svg\" alt=\"Open In Colab\"/></a>"
      ]
    },
    {
      "cell_type": "code",
      "execution_count": null,
      "metadata": {
        "id": "ia16Sw7nbVTF"
      },
      "outputs": [],
      "source": [
        "!pip install -q toloka-kit==0.1.17 # To interact with Toloka API\n",
        "!pip install -q ipyplot # To plot images inside Jupyter Notebooks cells\n",
        "!pip install -q crowd-kit==0.0.7\n",
        "!pip install -q yadisk\n",
        "import os\n",
        "import datetime\n",
        "import time\n",
        "import logging\n",
        "import sys\n",
        "\n",
        "import pandas as pd   # To perform data manipulation\n",
        "import ipyplot\n",
        "from IPython.display import clear_output\n",
        "\n",
        "from typing import List\n",
        "from toloka.streaming.event import AssignmentEvent\n",
        "\n",
        "import toloka.client as toloka\n",
        "import toloka.client.project.template_builder as tb\n",
        "\n",
        "from crowdkit.aggregation import MajorityVote\n",
        "\n",
        "logging.basicConfig(\n",
        "    format='[%(levelname)s] %(name)s: %(message)s',\n",
        "    level=logging.INFO,\n",
        "    stream=sys.stdout,\n",
        ")"
      ]
    },
    {
      "cell_type": "code",
      "source": [
        "! curl https://tlk.s3.yandex.net/course/shad_cv_project_22/dataset_students.zip --output dataset_students.zip\n",
        "! unzip -q dataset_students.zip\n",
        "! ls dataset_students/classification/train_unlabelled | wc -l"
      ],
      "metadata": {
        "colab": {
          "base_uri": "https://localhost:8080/"
        },
        "id": "y7bExY9Oo6-9",
        "outputId": "5b4bf2d1-2c1a-46f1-b8a5-ac68b8b2aa33"
      },
      "execution_count": null,
      "outputs": [
        {
          "output_type": "stream",
          "name": "stdout",
          "text": [
            "  % Total    % Received % Xferd  Average Speed   Time    Time     Time  Current\n",
            "                                 Dload  Upload   Total   Spent    Left  Speed\n",
            "100  400M  100  400M    0     0  15.2M      0  0:00:26  0:00:26 --:--:-- 17.1M\n",
            "8500\n"
          ]
        }
      ]
    },
    {
      "cell_type": "code",
      "source": [
        "import yadisk\n",
        "y = yadisk.YaDisk(token=input())\n",
        "clear_output()\n",
        "print(y.check_token())"
      ],
      "metadata": {
        "colab": {
          "base_uri": "https://localhost:8080/"
        },
        "id": "GP9lxDTmkGkg",
        "outputId": "ad106abc-2ec8-40da-9757-cf1792d47b0f"
      },
      "execution_count": null,
      "outputs": [
        {
          "output_type": "stream",
          "name": "stdout",
          "text": [
            "True\n"
          ]
        }
      ]
    },
    {
      "cell_type": "code",
      "source": [
        "ROOT = \"dataset_students/classification/train_unlabelled\"\n",
        "\n",
        "for image in os.listdir(ROOT):\n",
        "  y.upload(os.path.join(ROOT, image), f\"disk:/Приложения/Toloka/project1_cv_copy/{image}\")"
      ],
      "metadata": {
        "id": "RH8kEakonbVG"
      },
      "execution_count": null,
      "outputs": []
    },
    {
      "cell_type": "code",
      "source": [
        "toloka_client = toloka.TolokaClient(input(\"Enter your token:\"), 'PRODUCTION') # Or switch to 'SANDBOX'\n",
        "print(toloka_client.get_requester())\n",
        "clear_output()"
      ],
      "metadata": {
        "id": "Qh6LEwI7Kw-o"
      },
      "execution_count": null,
      "outputs": []
    },
    {
      "cell_type": "code",
      "source": [
        "pool = toloka_client.get_pool(35892859)"
      ],
      "metadata": {
        "id": "dbFrQmbzMySa"
      },
      "execution_count": null,
      "outputs": []
    },
    {
      "cell_type": "code",
      "source": [
        "uploaded_images = list(y.listdir(\"disk:/Приложения/Toloka/project1_cv_copy\", timeout=100))\n",
        "uploaded_images_names = sorted(list(map(lambda x: x['name'], uploaded_images)))"
      ],
      "metadata": {
        "id": "hPxfdmZwiGu1"
      },
      "execution_count": null,
      "outputs": []
    },
    {
      "cell_type": "code",
      "source": [
        "price = 0.02\n",
        "limit_budget = 20\n",
        "len(uploaded_images_names[:int(limit_budget / 0.01)])"
      ],
      "metadata": {
        "colab": {
          "base_uri": "https://localhost:8080/"
        },
        "id": "Mj0x2n5WEejy",
        "outputId": "22fa17e9-739e-4736-f9d5-044e16767987"
      },
      "execution_count": null,
      "outputs": [
        {
          "output_type": "execute_result",
          "data": {
            "text/plain": [
              "2000"
            ]
          },
          "metadata": {},
          "execution_count": 40
        }
      ]
    },
    {
      "cell_type": "code",
      "source": [
        "price = 0.02\n",
        "limit_budget = 20\n",
        "learn_control_tasks = 40\n",
        "\n",
        "tasks = [\n",
        "    toloka.Task(input_values={'image': f'https://platform.toloka.ai/api/proxy/project1-cv-copy/{image}'}, pool_id=pool.id)\n",
        "    for image in uploaded_images_names[:int(limit_budget / price) + learn_control_tasks]\n",
        "]"
      ],
      "metadata": {
        "id": "4OXF_yp6Lh5E"
      },
      "execution_count": null,
      "outputs": []
    },
    {
      "cell_type": "code",
      "source": [
        "toloka_client.create_tasks(tasks, allow_defaults=True)\n",
        "clear_output()"
      ],
      "metadata": {
        "id": "vHC1H7aaMwyQ"
      },
      "execution_count": null,
      "outputs": []
    },
    {
      "cell_type": "code",
      "source": [],
      "metadata": {
        "id": "ZssuWMhPmRrx"
      },
      "execution_count": null,
      "outputs": []
    }
  ]
}