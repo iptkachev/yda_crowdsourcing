{
  "cells": [
    {
      "cell_type": "markdown",
      "metadata": {
        "id": "view-in-github",
        "colab_type": "text"
      },
      "source": [
        "<a href=\"https://colab.research.google.com/github/iptkachev/yda_crowdsourcing/blob/main/object_detection_task.ipynb\" target=\"_parent\"><img src=\"https://colab.research.google.com/assets/colab-badge.svg\" alt=\"Open In Colab\"/></a>"
      ]
    },
    {
      "cell_type": "markdown",
      "metadata": {
        "id": "9yJ_lrNsMXXK"
      },
      "source": [
        "# Annotating ground truth for object detection\n",
        "\n",
        "The goal of this notebook is to annotate images which can later be used for training of detection algorithms.\n",
        "\n",
        "We will configure and run such project in Toloka from scratch.\n",
        "\n",
        "Performers will be asked to annotate the particular objects in the image.\n"
      ]
    },
    {
      "cell_type": "markdown",
      "metadata": {
        "id": "tfEy6xROMXXS"
      },
      "source": [
        "To get acquainted with Toloka tools for free, you can use the promo code **TOLOKAKIT1** on $20 on your [profile page](https://toloka.yandex.com/requester/profile?utm_source=github&utm_medium=site&utm_campaign=tolokakit) after registration."
      ]
    },
    {
      "cell_type": "markdown",
      "metadata": {
        "id": "Xvp0GFOGMXXT"
      },
      "source": [
        "## The challenge\n",
        "We have a set of real-life photos of roads:\n",
        "\n",
        "<table  align=\"center\">\n",
        "  <tr><td>\n",
        "    <img src=\"https://tlk.s3.yandex.net/sdc/photos/0b35956a9afc639a71045f09745096de.jpg\"\n",
        "         alt=\"Sample road photo\"  width=\"800\">\n",
        "  </td></tr>\n",
        "  <tr><td align=\"center\">\n",
        "    <b>Figure 1.</b> Sample road photo\n",
        "  </td></tr>\n",
        "</table>\n",
        "\n",
        "We need to outline every traffic sign. Ultimately, we need to get a set of contours, defined by an array of points, that\n",
        "represent the road signs in each photo. Here’s how it can look like:\n",
        "\n",
        "<table  align=\"center\">\n",
        "  <tr><td>\n",
        "    <img src=\"https://github.com/Toloka/toloka-kit/blob/main/examples/1.computer_vision/object_detection/img/segmentation_example.png?raw=1\"\n",
        "         alt=\"Example of how road sign detection can be performed\"  width=\"800\">\n",
        "  </td></tr>\n",
        "  <tr><td align=\"center\">\n",
        "    <b>Figure 2.</b> Example of how road sign detection can be performed.\n",
        "  </td></tr>\n",
        "</table>\n",
        "\n",
        "In real-world tasks, annotation is usually done with a polygon. We chose to use a rectangular outline to simplify the\n",
        "task so that we can reduce costs and speed things up."
      ]
    },
    {
      "cell_type": "markdown",
      "metadata": {
        "id": "wfkM3NYIMXXV"
      },
      "source": [
        "### Detailed task description\n",
        "In this notebook we will implement Projects 2 and 3 from the [tutorial](https://toloka.ai/docs/guide/concepts/image-segmentation-overview.html?utm_source=github&utm_medium=site&utm_campaign=tolokakit).\n",
        "Check this link if you want to configure these projects right in the web interface.\n",
        "\n",
        "We'll skip the first project \"Does the image contain a specific object?\" from tutorial above, since it's easy to\n",
        "implement using our [\"verification project\"](https://toloka.ai/docs/guide/concepts/image-segmentation-project3.html?utm_source=github&utm_medium=site&utm_campaign=tolokakit) code.\n",
        "\n",
        "Here are the two projects we’re going to implement:\n",
        "- **Detection project** \"[Select an object in the image](https://toloka.ai/docs/guide/concepts/image-segmentation-project2.html?utm_source=github&utm_medium=site&utm_campaign=tolokakit)\" : performers will select image areas that contain a traffic sign.\n",
        "- **Verification project** \"[Are the bounding boxes correct?](https://toloka.ai/docs/guide/concepts/image-segmentation-project3.html?utm_source=github&utm_medium=site&utm_campaign=tolokakit)\" : performers will determine if traffic signs were selected correctly in the images.\n",
        "\n",
        "[Control tasks](https://toloka.ai/docs/guide/concepts/goldenset.html?utm_source=github&utm_medium=site&utm_campaign=tolokakit) and [majority vote](https://toloka.ai/docs/guide/concepts/mvote.html?utm_source=github&utm_medium=site&utm_campaign=tolokakit) aren't used for the detection project, because we can’t expect the area annotations provided by the performers to match each other exactly. Instead, we’ll check detection results in the second project, where a different group of performers will determine whether the traffic signs were annotated correctly or not."
      ]
    },
    {
      "cell_type": "markdown",
      "metadata": {
        "id": "bwkl_M-mMXXW"
      },
      "source": [
        "### Set up the environment\n",
        "First of all, we higly recommend to read [learn the basics example](https://github.com/Toloka/toloka-kit/blob/main/examples/0.getting_started/0.learn_the_basics/) [![Open In Colab](https://colab.research.google.com/assets/colab-badge.svg)](https://colab.research.google.com/github/Toloka/toloka-kit/blob/main/examples/0.getting_started/0.learn_the_basics/learn_the_basics.ipynb) before you start this one to be familiar with the main kinds of entities in Toloka.\n",
        "\n",
        "In our example we are using the production version of Toloka, but you can also use [Toloka sandbox](https://toloka.ai/docs/guide/concepts/sandbox.html?utm_source=github&utm_medium=site&utm_campaign=tolokakit). Sandbox specifications of the code are presented in the comments."
      ]
    },
    {
      "cell_type": "markdown",
      "metadata": {
        "id": "bP7EHLX1MXXY"
      },
      "source": [
        "Prepare environment and import necessary libraries"
      ]
    },
    {
      "cell_type": "code",
      "execution_count": 1,
      "metadata": {
        "id": "f7MG1rvTMXXZ",
        "colab": {
          "base_uri": "https://localhost:8080/"
        },
        "outputId": "53b3c540-6fd8-46e7-9b2c-d9e9e1ba3c1c"
      },
      "outputs": [
        {
          "output_type": "stream",
          "name": "stdout",
          "text": [
            "Looking in indexes: https://pypi.org/simple, https://us-python.pkg.dev/colab-wheels/public/simple/\n",
            "Collecting toloka-kit==0.1.17\n",
            "  Downloading toloka_kit-0.1.17-py3-none-any.whl (299 kB)\n",
            "\u001b[K     |████████████████████████████████| 299 kB 5.2 MB/s \n",
            "\u001b[?25hCollecting docstring-parser\n",
            "  Downloading docstring_parser-0.15-py3-none-any.whl (36 kB)\n",
            "Requirement already satisfied: cached-property in /usr/local/lib/python3.7/dist-packages (from toloka-kit==0.1.17) (1.5.2)\n",
            "Collecting jupyter-dash\n",
            "  Downloading jupyter_dash-0.4.2-py3-none-any.whl (23 kB)\n",
            "Requirement already satisfied: requests in /usr/local/lib/python3.7/dist-packages (from toloka-kit==0.1.17) (2.23.0)\n",
            "Requirement already satisfied: attrs>=20.3.0 in /usr/local/lib/python3.7/dist-packages (from toloka-kit==0.1.17) (22.1.0)\n",
            "Collecting ipyplot\n",
            "  Downloading ipyplot-1.1.1-py3-none-any.whl (13 kB)\n",
            "Requirement already satisfied: pandas in /usr/local/lib/python3.7/dist-packages (from toloka-kit==0.1.17) (1.3.5)\n",
            "Collecting cattrs>=1.1.1\n",
            "  Downloading cattrs-22.2.0-py3-none-any.whl (35 kB)\n",
            "Collecting simplejson\n",
            "  Downloading simplejson-3.17.6-cp37-cp37m-manylinux_2_5_x86_64.manylinux1_x86_64.manylinux_2_12_x86_64.manylinux2010_x86_64.whl (130 kB)\n",
            "\u001b[K     |████████████████████████████████| 130 kB 45.1 MB/s \n",
            "\u001b[?25hRequirement already satisfied: urllib3 in /usr/local/lib/python3.7/dist-packages (from toloka-kit==0.1.17) (1.24.3)\n",
            "Requirement already satisfied: typing_extensions in /usr/local/lib/python3.7/dist-packages (from cattrs>=1.1.1->toloka-kit==0.1.17) (4.1.1)\n",
            "Collecting exceptiongroup\n",
            "  Downloading exceptiongroup-1.0.0rc9-py3-none-any.whl (12 kB)\n",
            "Requirement already satisfied: IPython in /usr/local/lib/python3.7/dist-packages (from ipyplot->toloka-kit==0.1.17) (7.9.0)\n",
            "Requirement already satisfied: pillow in /usr/local/lib/python3.7/dist-packages (from ipyplot->toloka-kit==0.1.17) (7.1.2)\n",
            "Requirement already satisfied: numpy in /usr/local/lib/python3.7/dist-packages (from ipyplot->toloka-kit==0.1.17) (1.21.6)\n",
            "Collecting shortuuid\n",
            "  Downloading shortuuid-1.0.9-py3-none-any.whl (9.4 kB)\n",
            "Requirement already satisfied: backcall in /usr/local/lib/python3.7/dist-packages (from IPython->ipyplot->toloka-kit==0.1.17) (0.2.0)\n",
            "Requirement already satisfied: pexpect in /usr/local/lib/python3.7/dist-packages (from IPython->ipyplot->toloka-kit==0.1.17) (4.8.0)\n",
            "Requirement already satisfied: decorator in /usr/local/lib/python3.7/dist-packages (from IPython->ipyplot->toloka-kit==0.1.17) (4.4.2)\n",
            "Requirement already satisfied: pygments in /usr/local/lib/python3.7/dist-packages (from IPython->ipyplot->toloka-kit==0.1.17) (2.6.1)\n",
            "Requirement already satisfied: pickleshare in /usr/local/lib/python3.7/dist-packages (from IPython->ipyplot->toloka-kit==0.1.17) (0.7.5)\n",
            "Requirement already satisfied: prompt-toolkit<2.1.0,>=2.0.0 in /usr/local/lib/python3.7/dist-packages (from IPython->ipyplot->toloka-kit==0.1.17) (2.0.10)\n",
            "Requirement already satisfied: traitlets>=4.2 in /usr/local/lib/python3.7/dist-packages (from IPython->ipyplot->toloka-kit==0.1.17) (5.1.1)\n",
            "Collecting jedi>=0.10\n",
            "  Downloading jedi-0.18.1-py2.py3-none-any.whl (1.6 MB)\n",
            "\u001b[K     |████████████████████████████████| 1.6 MB 52.9 MB/s \n",
            "\u001b[?25hRequirement already satisfied: setuptools>=18.5 in /usr/local/lib/python3.7/dist-packages (from IPython->ipyplot->toloka-kit==0.1.17) (57.4.0)\n",
            "Requirement already satisfied: parso<0.9.0,>=0.8.0 in /usr/local/lib/python3.7/dist-packages (from jedi>=0.10->IPython->ipyplot->toloka-kit==0.1.17) (0.8.3)\n",
            "Requirement already satisfied: six>=1.9.0 in /usr/local/lib/python3.7/dist-packages (from prompt-toolkit<2.1.0,>=2.0.0->IPython->ipyplot->toloka-kit==0.1.17) (1.15.0)\n",
            "Requirement already satisfied: wcwidth in /usr/local/lib/python3.7/dist-packages (from prompt-toolkit<2.1.0,>=2.0.0->IPython->ipyplot->toloka-kit==0.1.17) (0.2.5)\n",
            "Collecting dash\n",
            "  Downloading dash-2.6.2-py3-none-any.whl (9.8 MB)\n",
            "\u001b[K     |████████████████████████████████| 9.8 MB 40.5 MB/s \n",
            "\u001b[?25hRequirement already satisfied: flask in /usr/local/lib/python3.7/dist-packages (from jupyter-dash->toloka-kit==0.1.17) (1.1.4)\n",
            "Collecting nest-asyncio\n",
            "  Downloading nest_asyncio-1.5.6-py3-none-any.whl (5.2 kB)\n",
            "Collecting ansi2html\n",
            "  Downloading ansi2html-1.8.0-py3-none-any.whl (16 kB)\n",
            "Requirement already satisfied: ipykernel in /usr/local/lib/python3.7/dist-packages (from jupyter-dash->toloka-kit==0.1.17) (5.3.4)\n",
            "Collecting retrying\n",
            "  Downloading retrying-1.3.3.tar.gz (10 kB)\n",
            "Requirement already satisfied: importlib-metadata in /usr/local/lib/python3.7/dist-packages (from ansi2html->jupyter-dash->toloka-kit==0.1.17) (5.0.0)\n",
            "Collecting dash-table==5.0.0\n",
            "  Downloading dash_table-5.0.0-py3-none-any.whl (3.9 kB)\n",
            "Requirement already satisfied: plotly>=5.0.0 in /usr/local/lib/python3.7/dist-packages (from dash->jupyter-dash->toloka-kit==0.1.17) (5.5.0)\n",
            "Collecting dash-html-components==2.0.0\n",
            "  Downloading dash_html_components-2.0.0-py3-none-any.whl (4.1 kB)\n",
            "Collecting dash-core-components==2.0.0\n",
            "  Downloading dash_core_components-2.0.0-py3-none-any.whl (3.8 kB)\n",
            "Collecting flask-compress\n",
            "  Downloading Flask_Compress-1.13-py3-none-any.whl (7.9 kB)\n",
            "Requirement already satisfied: click<8.0,>=5.1 in /usr/local/lib/python3.7/dist-packages (from flask->jupyter-dash->toloka-kit==0.1.17) (7.1.2)\n",
            "Requirement already satisfied: Werkzeug<2.0,>=0.15 in /usr/local/lib/python3.7/dist-packages (from flask->jupyter-dash->toloka-kit==0.1.17) (1.0.1)\n",
            "Requirement already satisfied: Jinja2<3.0,>=2.10.1 in /usr/local/lib/python3.7/dist-packages (from flask->jupyter-dash->toloka-kit==0.1.17) (2.11.3)\n",
            "Requirement already satisfied: itsdangerous<2.0,>=0.24 in /usr/local/lib/python3.7/dist-packages (from flask->jupyter-dash->toloka-kit==0.1.17) (1.1.0)\n",
            "Requirement already satisfied: MarkupSafe>=0.23 in /usr/local/lib/python3.7/dist-packages (from Jinja2<3.0,>=2.10.1->flask->jupyter-dash->toloka-kit==0.1.17) (2.0.1)\n",
            "Requirement already satisfied: tenacity>=6.2.0 in /usr/local/lib/python3.7/dist-packages (from plotly>=5.0.0->dash->jupyter-dash->toloka-kit==0.1.17) (8.1.0)\n",
            "Collecting brotli\n",
            "  Downloading Brotli-1.0.9-cp37-cp37m-manylinux1_x86_64.whl (357 kB)\n",
            "\u001b[K     |████████████████████████████████| 357 kB 51.8 MB/s \n",
            "\u001b[?25hRequirement already satisfied: zipp>=0.5 in /usr/local/lib/python3.7/dist-packages (from importlib-metadata->ansi2html->jupyter-dash->toloka-kit==0.1.17) (3.8.1)\n",
            "Requirement already satisfied: tornado>=4.2 in /usr/local/lib/python3.7/dist-packages (from ipykernel->jupyter-dash->toloka-kit==0.1.17) (5.1.1)\n",
            "Requirement already satisfied: jupyter-client in /usr/local/lib/python3.7/dist-packages (from ipykernel->jupyter-dash->toloka-kit==0.1.17) (6.1.12)\n",
            "Requirement already satisfied: python-dateutil>=2.1 in /usr/local/lib/python3.7/dist-packages (from jupyter-client->ipykernel->jupyter-dash->toloka-kit==0.1.17) (2.8.2)\n",
            "Requirement already satisfied: pyzmq>=13 in /usr/local/lib/python3.7/dist-packages (from jupyter-client->ipykernel->jupyter-dash->toloka-kit==0.1.17) (23.2.1)\n",
            "Requirement already satisfied: jupyter-core>=4.6.0 in /usr/local/lib/python3.7/dist-packages (from jupyter-client->ipykernel->jupyter-dash->toloka-kit==0.1.17) (4.11.1)\n",
            "Requirement already satisfied: pytz>=2017.3 in /usr/local/lib/python3.7/dist-packages (from pandas->toloka-kit==0.1.17) (2022.4)\n",
            "Requirement already satisfied: ptyprocess>=0.5 in /usr/local/lib/python3.7/dist-packages (from pexpect->IPython->ipyplot->toloka-kit==0.1.17) (0.7.0)\n",
            "Requirement already satisfied: chardet<4,>=3.0.2 in /usr/local/lib/python3.7/dist-packages (from requests->toloka-kit==0.1.17) (3.0.4)\n",
            "Requirement already satisfied: idna<3,>=2.5 in /usr/local/lib/python3.7/dist-packages (from requests->toloka-kit==0.1.17) (2.10)\n",
            "Requirement already satisfied: certifi>=2017.4.17 in /usr/local/lib/python3.7/dist-packages (from requests->toloka-kit==0.1.17) (2022.9.24)\n",
            "Building wheels for collected packages: retrying\n",
            "  Building wheel for retrying (setup.py) ... \u001b[?25l\u001b[?25hdone\n",
            "  Created wheel for retrying: filename=retrying-1.3.3-py3-none-any.whl size=11447 sha256=5a5ceaee537a5511f489a840433947e3ab72fcae726f330da79690ffb96afa6f\n",
            "  Stored in directory: /root/.cache/pip/wheels/f9/8d/8d/f6af3f7f9eea3553bc2fe6d53e4b287dad18b06a861ac56ddf\n",
            "Successfully built retrying\n",
            "Installing collected packages: jedi, brotli, flask-compress, dash-table, dash-html-components, dash-core-components, shortuuid, retrying, nest-asyncio, exceptiongroup, dash, ansi2html, simplejson, jupyter-dash, ipyplot, docstring-parser, cattrs, toloka-kit\n",
            "Successfully installed ansi2html-1.8.0 brotli-1.0.9 cattrs-22.2.0 dash-2.6.2 dash-core-components-2.0.0 dash-html-components-2.0.0 dash-table-5.0.0 docstring-parser-0.15 exceptiongroup-1.0.0rc9 flask-compress-1.13 ipyplot-1.1.1 jedi-0.18.1 jupyter-dash-0.4.2 nest-asyncio-1.5.6 retrying-1.3.3 shortuuid-1.0.9 simplejson-3.17.6 toloka-kit-0.1.17\n",
            "Looking in indexes: https://pypi.org/simple, https://us-python.pkg.dev/colab-wheels/public/simple/\n",
            "Requirement already satisfied: ipyplot in /usr/local/lib/python3.7/dist-packages (1.1.1)\n",
            "Requirement already satisfied: numpy in /usr/local/lib/python3.7/dist-packages (from ipyplot) (1.21.6)\n",
            "Requirement already satisfied: IPython in /usr/local/lib/python3.7/dist-packages (from ipyplot) (7.9.0)\n",
            "Requirement already satisfied: shortuuid in /usr/local/lib/python3.7/dist-packages (from ipyplot) (1.0.9)\n",
            "Requirement already satisfied: pillow in /usr/local/lib/python3.7/dist-packages (from ipyplot) (7.1.2)\n",
            "Requirement already satisfied: pygments in /usr/local/lib/python3.7/dist-packages (from IPython->ipyplot) (2.6.1)\n",
            "Requirement already satisfied: prompt-toolkit<2.1.0,>=2.0.0 in /usr/local/lib/python3.7/dist-packages (from IPython->ipyplot) (2.0.10)\n",
            "Requirement already satisfied: setuptools>=18.5 in /usr/local/lib/python3.7/dist-packages (from IPython->ipyplot) (57.4.0)\n",
            "Requirement already satisfied: pickleshare in /usr/local/lib/python3.7/dist-packages (from IPython->ipyplot) (0.7.5)\n",
            "Requirement already satisfied: traitlets>=4.2 in /usr/local/lib/python3.7/dist-packages (from IPython->ipyplot) (5.1.1)\n",
            "Requirement already satisfied: jedi>=0.10 in /usr/local/lib/python3.7/dist-packages (from IPython->ipyplot) (0.18.1)\n",
            "Requirement already satisfied: decorator in /usr/local/lib/python3.7/dist-packages (from IPython->ipyplot) (4.4.2)\n",
            "Requirement already satisfied: backcall in /usr/local/lib/python3.7/dist-packages (from IPython->ipyplot) (0.2.0)\n",
            "Requirement already satisfied: pexpect in /usr/local/lib/python3.7/dist-packages (from IPython->ipyplot) (4.8.0)\n",
            "Requirement already satisfied: parso<0.9.0,>=0.8.0 in /usr/local/lib/python3.7/dist-packages (from jedi>=0.10->IPython->ipyplot) (0.8.3)\n",
            "Requirement already satisfied: six>=1.9.0 in /usr/local/lib/python3.7/dist-packages (from prompt-toolkit<2.1.0,>=2.0.0->IPython->ipyplot) (1.15.0)\n",
            "Requirement already satisfied: wcwidth in /usr/local/lib/python3.7/dist-packages (from prompt-toolkit<2.1.0,>=2.0.0->IPython->ipyplot) (0.2.5)\n",
            "Requirement already satisfied: ptyprocess>=0.5 in /usr/local/lib/python3.7/dist-packages (from pexpect->IPython->ipyplot) (0.7.0)\n",
            "Looking in indexes: https://pypi.org/simple, https://us-python.pkg.dev/colab-wheels/public/simple/\n",
            "Collecting crowd-kit==0.0.7\n",
            "  Downloading crowd_kit-0.0.7-py3-none-any.whl (57 kB)\n",
            "\u001b[K     |████████████████████████████████| 57 kB 2.8 MB/s \n",
            "\u001b[?25hRequirement already satisfied: nltk in /usr/local/lib/python3.7/dist-packages (from crowd-kit==0.0.7) (3.7)\n",
            "Requirement already satisfied: pandas>=1.1.0 in /usr/local/lib/python3.7/dist-packages (from crowd-kit==0.0.7) (1.3.5)\n",
            "Requirement already satisfied: tqdm in /usr/local/lib/python3.7/dist-packages (from crowd-kit==0.0.7) (4.64.1)\n",
            "Requirement already satisfied: numpy in /usr/local/lib/python3.7/dist-packages (from crowd-kit==0.0.7) (1.21.6)\n",
            "Requirement already satisfied: attrs in /usr/local/lib/python3.7/dist-packages (from crowd-kit==0.0.7) (22.1.0)\n",
            "Requirement already satisfied: scikit-learn in /usr/local/lib/python3.7/dist-packages (from crowd-kit==0.0.7) (1.0.2)\n",
            "Requirement already satisfied: python-dateutil>=2.7.3 in /usr/local/lib/python3.7/dist-packages (from pandas>=1.1.0->crowd-kit==0.0.7) (2.8.2)\n",
            "Requirement already satisfied: pytz>=2017.3 in /usr/local/lib/python3.7/dist-packages (from pandas>=1.1.0->crowd-kit==0.0.7) (2022.4)\n",
            "Requirement already satisfied: six>=1.5 in /usr/local/lib/python3.7/dist-packages (from python-dateutil>=2.7.3->pandas>=1.1.0->crowd-kit==0.0.7) (1.15.0)\n",
            "Requirement already satisfied: click in /usr/local/lib/python3.7/dist-packages (from nltk->crowd-kit==0.0.7) (7.1.2)\n",
            "Requirement already satisfied: joblib in /usr/local/lib/python3.7/dist-packages (from nltk->crowd-kit==0.0.7) (1.2.0)\n",
            "Requirement already satisfied: regex>=2021.8.3 in /usr/local/lib/python3.7/dist-packages (from nltk->crowd-kit==0.0.7) (2022.6.2)\n",
            "Requirement already satisfied: threadpoolctl>=2.0.0 in /usr/local/lib/python3.7/dist-packages (from scikit-learn->crowd-kit==0.0.7) (3.1.0)\n",
            "Requirement already satisfied: scipy>=1.1.0 in /usr/local/lib/python3.7/dist-packages (from scikit-learn->crowd-kit==0.0.7) (1.7.3)\n",
            "Installing collected packages: crowd-kit\n",
            "Successfully installed crowd-kit-0.0.7\n",
            "\n",
            "        WARNING! Google Colab Environment detected!\n",
            "        You might encounter issues while running in Google Colab environment.\n",
            "        If images are not displaying properly please try setting `force_b64` param to `True`.\n",
            "        \n"
          ]
        }
      ],
      "source": [
        "!pip install toloka-kit==0.1.17 # To interact with Toloka API\n",
        "!pip install ipyplot # To plot images inside Jupyter Notebooks cells\n",
        "!pip install crowd-kit==0.0.7\n",
        "\n",
        "import os\n",
        "import datetime\n",
        "import time\n",
        "import logging\n",
        "import sys\n",
        "\n",
        "import pandas as pd   # To perform data manipulation\n",
        "import ipyplot\n",
        "\n",
        "\n",
        "from typing import List\n",
        "from toloka.streaming.event import AssignmentEvent\n",
        "\n",
        "import toloka.client as toloka\n",
        "import toloka.client.project.template_builder as tb\n",
        "\n",
        "from crowdkit.aggregation import MajorityVote\n",
        "\n",
        "logging.basicConfig(\n",
        "    format='[%(levelname)s] %(name)s: %(message)s',\n",
        "    level=logging.INFO,\n",
        "    stream=sys.stdout,\n",
        ")"
      ]
    },
    {
      "cell_type": "markdown",
      "metadata": {
        "id": "9HsRNousMXXc"
      },
      "source": [
        "Create a toloka-client instance. All API calls will pass through it."
      ]
    },
    {
      "cell_type": "code",
      "execution_count": 2,
      "metadata": {
        "id": "slDjMPWNMXXd",
        "colab": {
          "base_uri": "https://localhost:8080/"
        },
        "outputId": "11fc98f4-3602-421d-d3a0-a70de5e22ca3"
      },
      "outputs": [
        {
          "output_type": "stream",
          "name": "stdout",
          "text": [
            "Enter your token:y0_AgAAAABk4TOnAACtpQAAAADQ-Q1gt4SSHYhrRS2IjTuE4SP_wzuFmd0\n",
            "Requester(_unexpected={}, id='096191d20520f94d0fffa98499658f97', balance=Decimal('48.9548'), public_name={'EN': 'skaatt67'}, company=None)\n"
          ]
        }
      ],
      "source": [
        "toloka_client = toloka.TolokaClient(input(\"Enter your token:\"), 'PRODUCTION') # Or switch to 'SANDBOX'\n",
        "print(toloka_client.get_requester())"
      ]
    },
    {
      "cell_type": "markdown",
      "metadata": {
        "id": "OfEHVHVQMXXe"
      },
      "source": [
        "Learn more about [Toloka API](https://toloka.ai/docs/api/concepts/about.html?utm_source=github&utm_medium=site&utm_campaign=tolokakit) and [Toloka Kit](https://toloka.github.io/toloka-kit?utm_source=github&utm_medium=site&utm_campaign=tolokakit).\n"
      ]
    },
    {
      "cell_type": "markdown",
      "metadata": {
        "id": "vEhDj28OMXXe"
      },
      "source": [
        "### Review the dataset\n",
        "The dataset used is collected by Toloka team and distributed under a Creative Commons Attribution 4.0 International license\n",
        "[![License: CC BY 4.0](https://img.shields.io/badge/License-CC%20BY%204.0-lightgrey.svg)](https://creativecommons.org/licenses/by/4.0/).\n",
        "\n",
        "Our dataset is just a collection of image URLs."
      ]
    },
    {
      "cell_type": "code",
      "execution_count": 3,
      "metadata": {
        "scrolled": true,
        "id": "hwpkxiXOMXXf",
        "outputId": "34383982-72f4-4473-fe12-c651d83742ad",
        "colab": {
          "base_uri": "https://localhost:8080/",
          "height": 1000
        }
      },
      "outputs": [
        {
          "output_type": "stream",
          "name": "stdout",
          "text": [
            "  % Total    % Received % Xferd  Average Speed   Time    Time     Time  Current\n",
            "                                 Dload  Upload   Total   Spent    Left  Speed\n",
            "100  6296  100  6296    0     0   8531      0 --:--:-- --:--:-- --:--:--  8531\n"
          ]
        },
        {
          "output_type": "display_data",
          "data": {
            "text/plain": [
              "<IPython.core.display.HTML object>"
            ],
            "text/html": [
              "\n",
              "    <style>\n",
              "        #ipyplot-html-viewer-toggle-jZEnXmxDn2S9FqodLsZbDP {\n",
              "            position: absolute;\n",
              "            top: -9999px;\n",
              "            left: -9999px;\n",
              "            visibility: hidden;\n",
              "        }\n",
              "\n",
              "        #ipyplot-html-viewer-label-jZEnXmxDn2S9FqodLsZbDP { \n",
              "            position: relative;\n",
              "            display: inline-block;\n",
              "            cursor: pointer;\n",
              "            color: blue;\n",
              "            text-decoration: underline;\n",
              "        }\n",
              "\n",
              "        #ipyplot-html-viewer-textarea-jZEnXmxDn2S9FqodLsZbDP {\n",
              "            background: lightgrey;\n",
              "            width: 100%;\n",
              "            height: 0px;\n",
              "            display: none;\n",
              "        }\n",
              "\n",
              "        #ipyplot-html-viewer-toggle-jZEnXmxDn2S9FqodLsZbDP:checked ~ #ipyplot-html-viewer-textarea-jZEnXmxDn2S9FqodLsZbDP {\n",
              "            height: 200px;\n",
              "            display: block;\n",
              "        }\n",
              "\n",
              "        #ipyplot-html-viewer-toggle-jZEnXmxDn2S9FqodLsZbDP:checked + #ipyplot-html-viewer-label-jZEnXmxDn2S9FqodLsZbDP:after {\n",
              "            content: \"hide html\";\n",
              "            position: absolute;\n",
              "            top: 0;\n",
              "            left: 0;\n",
              "            right: 0;\n",
              "            bottom: 0;\n",
              "            background: white;\n",
              "            cursor: pointer;\n",
              "            color: blue;\n",
              "            text-decoration: underline;\n",
              "        }\n",
              "    </style>\n",
              "    <div>\n",
              "        <input type=\"checkbox\" id=\"ipyplot-html-viewer-toggle-jZEnXmxDn2S9FqodLsZbDP\">\n",
              "        <label id=\"ipyplot-html-viewer-label-jZEnXmxDn2S9FqodLsZbDP\" for=\"ipyplot-html-viewer-toggle-jZEnXmxDn2S9FqodLsZbDP\">show html</label>\n",
              "        <textarea id=\"ipyplot-html-viewer-textarea-jZEnXmxDn2S9FqodLsZbDP\" readonly>\n",
              "            \n",
              "        <style>\n",
              "        #ipyplot-imgs-container-div-UactVRkXY5e4iXaBEJy9LV {\n",
              "            width: 100%;\n",
              "            height: 100%;\n",
              "            margin: 0%;\n",
              "            overflow: auto;\n",
              "            position: relative;\n",
              "            overflow-y: scroll;\n",
              "        }\n",
              "\n",
              "        div.ipyplot-placeholder-div-UactVRkXY5e4iXaBEJy9LV {\n",
              "            width: 1000px;\n",
              "            display: inline-block;\n",
              "            margin: 3px;\n",
              "            position: relative;\n",
              "        }\n",
              "\n",
              "        div.ipyplot-content-div-UactVRkXY5e4iXaBEJy9LV {\n",
              "            width: 1000px;\n",
              "            background: white;\n",
              "            display: inline-block;\n",
              "            vertical-align: top;\n",
              "            text-align: center;\n",
              "            position: relative;\n",
              "            border: 2px solid #ddd;\n",
              "            top: 0;\n",
              "            left: 0;\n",
              "        }\n",
              "\n",
              "        div.ipyplot-content-div-UactVRkXY5e4iXaBEJy9LV span.ipyplot-img-close {\n",
              "            display: none;\n",
              "        }\n",
              "\n",
              "        div.ipyplot-content-div-UactVRkXY5e4iXaBEJy9LV span {\n",
              "            width: 100%;\n",
              "            height: 100%;\n",
              "            position: absolute;\n",
              "            top: 0;\n",
              "            left: 0;\n",
              "        }\n",
              "\n",
              "        div.ipyplot-content-div-UactVRkXY5e4iXaBEJy9LV img {\n",
              "            width: 1000px;\n",
              "        }\n",
              "\n",
              "        div.ipyplot-content-div-UactVRkXY5e4iXaBEJy9LV span.ipyplot-img-close:hover {\n",
              "            cursor: zoom-out;\n",
              "        }\n",
              "        div.ipyplot-content-div-UactVRkXY5e4iXaBEJy9LV span.ipyplot-img-expand:hover {\n",
              "            cursor: zoom-in;\n",
              "        }\n",
              "\n",
              "        div[id^=ipyplot-content-div-UactVRkXY5e4iXaBEJy9LV]:target {\n",
              "            transform: scale(2.5);\n",
              "            transform-origin: left top;\n",
              "            z-index: 5000;\n",
              "            top: 0;\n",
              "            left: 0;\n",
              "            position: absolute;\n",
              "        }\n",
              "\n",
              "        div[id^=ipyplot-content-div-UactVRkXY5e4iXaBEJy9LV]:target span.ipyplot-img-close {\n",
              "            display: block;\n",
              "        }\n",
              "\n",
              "        div[id^=ipyplot-content-div-UactVRkXY5e4iXaBEJy9LV]:target span.ipyplot-img-expand {\n",
              "            display: none;\n",
              "        }\n",
              "        </style>\n",
              "    <div id=\"ipyplot-imgs-container-div-UactVRkXY5e4iXaBEJy9LV\">\n",
              "    <div class=\"ipyplot-placeholder-div-UactVRkXY5e4iXaBEJy9LV\">\n",
              "        <div id=\"ipyplot-content-div-UactVRkXY5e4iXaBEJy9LV-74SqYEUGznD2QMz4xTbw5U\" class=\"ipyplot-content-div-UactVRkXY5e4iXaBEJy9LV\">\n",
              "            <h4 style=\"font-size: 12px; word-wrap: break-word;\">0</h4>\n",
              "            <h4 style=\"font-size: 9px; padding-left: 10px; padding-right: 10px; width: 95%; word-wrap: break-word; white-space: normal;\">https://tlk.s3.yandex.net/sdc/photos/1fa8764a0985429b014317de04fc1a29.jpg</h4><img src=\"https://tlk.s3.yandex.net/sdc/photos/1fa8764a0985429b014317de04fc1a29.jpg\"/>\n",
              "            <a href=\"#!\">\n",
              "                <span class=\"ipyplot-img-close\"/>\n",
              "            </a>\n",
              "            <a href=\"#ipyplot-content-div-UactVRkXY5e4iXaBEJy9LV-74SqYEUGznD2QMz4xTbw5U\">\n",
              "                <span class=\"ipyplot-img-expand\"/>\n",
              "            </a>\n",
              "        </div>\n",
              "    </div>\n",
              "    \n",
              "    <div class=\"ipyplot-placeholder-div-UactVRkXY5e4iXaBEJy9LV\">\n",
              "        <div id=\"ipyplot-content-div-UactVRkXY5e4iXaBEJy9LV-2ZL9St6UGjrFEsnyGfBUoM\" class=\"ipyplot-content-div-UactVRkXY5e4iXaBEJy9LV\">\n",
              "            <h4 style=\"font-size: 12px; word-wrap: break-word;\">1</h4>\n",
              "            <h4 style=\"font-size: 9px; padding-left: 10px; padding-right: 10px; width: 95%; word-wrap: break-word; white-space: normal;\">https://tlk.s3.yandex.net/sdc/photos/3fe812d9e30932c3e658c8f4a13c9447.jpg</h4><img src=\"https://tlk.s3.yandex.net/sdc/photos/3fe812d9e30932c3e658c8f4a13c9447.jpg\"/>\n",
              "            <a href=\"#!\">\n",
              "                <span class=\"ipyplot-img-close\"/>\n",
              "            </a>\n",
              "            <a href=\"#ipyplot-content-div-UactVRkXY5e4iXaBEJy9LV-2ZL9St6UGjrFEsnyGfBUoM\">\n",
              "                <span class=\"ipyplot-img-expand\"/>\n",
              "            </a>\n",
              "        </div>\n",
              "    </div>\n",
              "    \n",
              "    <div class=\"ipyplot-placeholder-div-UactVRkXY5e4iXaBEJy9LV\">\n",
              "        <div id=\"ipyplot-content-div-UactVRkXY5e4iXaBEJy9LV-6qPwwpgR4PRWcAETu7Wiqf\" class=\"ipyplot-content-div-UactVRkXY5e4iXaBEJy9LV\">\n",
              "            <h4 style=\"font-size: 12px; word-wrap: break-word;\">2</h4>\n",
              "            <h4 style=\"font-size: 9px; padding-left: 10px; padding-right: 10px; width: 95%; word-wrap: break-word; white-space: normal;\">https://tlk.s3.yandex.net/sdc/photos/3ff2178ffa42fc1dc46c99f4bf2d6071.jpg</h4><img src=\"https://tlk.s3.yandex.net/sdc/photos/3ff2178ffa42fc1dc46c99f4bf2d6071.jpg\"/>\n",
              "            <a href=\"#!\">\n",
              "                <span class=\"ipyplot-img-close\"/>\n",
              "            </a>\n",
              "            <a href=\"#ipyplot-content-div-UactVRkXY5e4iXaBEJy9LV-6qPwwpgR4PRWcAETu7Wiqf\">\n",
              "                <span class=\"ipyplot-img-expand\"/>\n",
              "            </a>\n",
              "        </div>\n",
              "    </div>\n",
              "    \n",
              "    <div class=\"ipyplot-placeholder-div-UactVRkXY5e4iXaBEJy9LV\">\n",
              "        <div id=\"ipyplot-content-div-UactVRkXY5e4iXaBEJy9LV-6dptsYs7umvBUHScASBvN4\" class=\"ipyplot-content-div-UactVRkXY5e4iXaBEJy9LV\">\n",
              "            <h4 style=\"font-size: 12px; word-wrap: break-word;\">3</h4>\n",
              "            <h4 style=\"font-size: 9px; padding-left: 10px; padding-right: 10px; width: 95%; word-wrap: break-word; white-space: normal;\">https://tlk.s3.yandex.net/sdc/photos/2bcfb65cf865ecae95228af51fbb203b.jpg</h4><img src=\"https://tlk.s3.yandex.net/sdc/photos/2bcfb65cf865ecae95228af51fbb203b.jpg\"/>\n",
              "            <a href=\"#!\">\n",
              "                <span class=\"ipyplot-img-close\"/>\n",
              "            </a>\n",
              "            <a href=\"#ipyplot-content-div-UactVRkXY5e4iXaBEJy9LV-6dptsYs7umvBUHScASBvN4\">\n",
              "                <span class=\"ipyplot-img-expand\"/>\n",
              "            </a>\n",
              "        </div>\n",
              "    </div>\n",
              "    \n",
              "    <div class=\"ipyplot-placeholder-div-UactVRkXY5e4iXaBEJy9LV\">\n",
              "        <div id=\"ipyplot-content-div-UactVRkXY5e4iXaBEJy9LV-h6N7EzQBDDfki25Bj8SXHc\" class=\"ipyplot-content-div-UactVRkXY5e4iXaBEJy9LV\">\n",
              "            <h4 style=\"font-size: 12px; word-wrap: break-word;\">4</h4>\n",
              "            <h4 style=\"font-size: 9px; padding-left: 10px; padding-right: 10px; width: 95%; word-wrap: break-word; white-space: normal;\">https://tlk.s3.yandex.net/sdc/photos/2e8e12c697358bd104da2eec47c41594.jpg</h4><img src=\"https://tlk.s3.yandex.net/sdc/photos/2e8e12c697358bd104da2eec47c41594.jpg\"/>\n",
              "            <a href=\"#!\">\n",
              "                <span class=\"ipyplot-img-close\"/>\n",
              "            </a>\n",
              "            <a href=\"#ipyplot-content-div-UactVRkXY5e4iXaBEJy9LV-h6N7EzQBDDfki25Bj8SXHc\">\n",
              "                <span class=\"ipyplot-img-expand\"/>\n",
              "            </a>\n",
              "        </div>\n",
              "    </div>\n",
              "    </div>\n",
              "        </textarea>\n",
              "    </div>\n",
              "    "
            ]
          },
          "metadata": {}
        },
        {
          "output_type": "display_data",
          "data": {
            "text/plain": [
              "<IPython.core.display.HTML object>"
            ],
            "text/html": [
              "\n",
              "        <style>\n",
              "        #ipyplot-imgs-container-div-UactVRkXY5e4iXaBEJy9LV {\n",
              "            width: 100%;\n",
              "            height: 100%;\n",
              "            margin: 0%;\n",
              "            overflow: auto;\n",
              "            position: relative;\n",
              "            overflow-y: scroll;\n",
              "        }\n",
              "\n",
              "        div.ipyplot-placeholder-div-UactVRkXY5e4iXaBEJy9LV {\n",
              "            width: 1000px;\n",
              "            display: inline-block;\n",
              "            margin: 3px;\n",
              "            position: relative;\n",
              "        }\n",
              "\n",
              "        div.ipyplot-content-div-UactVRkXY5e4iXaBEJy9LV {\n",
              "            width: 1000px;\n",
              "            background: white;\n",
              "            display: inline-block;\n",
              "            vertical-align: top;\n",
              "            text-align: center;\n",
              "            position: relative;\n",
              "            border: 2px solid #ddd;\n",
              "            top: 0;\n",
              "            left: 0;\n",
              "        }\n",
              "\n",
              "        div.ipyplot-content-div-UactVRkXY5e4iXaBEJy9LV span.ipyplot-img-close {\n",
              "            display: none;\n",
              "        }\n",
              "\n",
              "        div.ipyplot-content-div-UactVRkXY5e4iXaBEJy9LV span {\n",
              "            width: 100%;\n",
              "            height: 100%;\n",
              "            position: absolute;\n",
              "            top: 0;\n",
              "            left: 0;\n",
              "        }\n",
              "\n",
              "        div.ipyplot-content-div-UactVRkXY5e4iXaBEJy9LV img {\n",
              "            width: 1000px;\n",
              "        }\n",
              "\n",
              "        div.ipyplot-content-div-UactVRkXY5e4iXaBEJy9LV span.ipyplot-img-close:hover {\n",
              "            cursor: zoom-out;\n",
              "        }\n",
              "        div.ipyplot-content-div-UactVRkXY5e4iXaBEJy9LV span.ipyplot-img-expand:hover {\n",
              "            cursor: zoom-in;\n",
              "        }\n",
              "\n",
              "        div[id^=ipyplot-content-div-UactVRkXY5e4iXaBEJy9LV]:target {\n",
              "            transform: scale(2.5);\n",
              "            transform-origin: left top;\n",
              "            z-index: 5000;\n",
              "            top: 0;\n",
              "            left: 0;\n",
              "            position: absolute;\n",
              "        }\n",
              "\n",
              "        div[id^=ipyplot-content-div-UactVRkXY5e4iXaBEJy9LV]:target span.ipyplot-img-close {\n",
              "            display: block;\n",
              "        }\n",
              "\n",
              "        div[id^=ipyplot-content-div-UactVRkXY5e4iXaBEJy9LV]:target span.ipyplot-img-expand {\n",
              "            display: none;\n",
              "        }\n",
              "        </style>\n",
              "    <div id=\"ipyplot-imgs-container-div-UactVRkXY5e4iXaBEJy9LV\">\n",
              "    <div class=\"ipyplot-placeholder-div-UactVRkXY5e4iXaBEJy9LV\">\n",
              "        <div id=\"ipyplot-content-div-UactVRkXY5e4iXaBEJy9LV-74SqYEUGznD2QMz4xTbw5U\" class=\"ipyplot-content-div-UactVRkXY5e4iXaBEJy9LV\">\n",
              "            <h4 style=\"font-size: 12px; word-wrap: break-word;\">0</h4>\n",
              "            <h4 style=\"font-size: 9px; padding-left: 10px; padding-right: 10px; width: 95%; word-wrap: break-word; white-space: normal;\">https://tlk.s3.yandex.net/sdc/photos/1fa8764a0985429b014317de04fc1a29.jpg</h4><img src=\"https://tlk.s3.yandex.net/sdc/photos/1fa8764a0985429b014317de04fc1a29.jpg\"/>\n",
              "            <a href=\"#!\">\n",
              "                <span class=\"ipyplot-img-close\"/>\n",
              "            </a>\n",
              "            <a href=\"#ipyplot-content-div-UactVRkXY5e4iXaBEJy9LV-74SqYEUGznD2QMz4xTbw5U\">\n",
              "                <span class=\"ipyplot-img-expand\"/>\n",
              "            </a>\n",
              "        </div>\n",
              "    </div>\n",
              "    \n",
              "    <div class=\"ipyplot-placeholder-div-UactVRkXY5e4iXaBEJy9LV\">\n",
              "        <div id=\"ipyplot-content-div-UactVRkXY5e4iXaBEJy9LV-2ZL9St6UGjrFEsnyGfBUoM\" class=\"ipyplot-content-div-UactVRkXY5e4iXaBEJy9LV\">\n",
              "            <h4 style=\"font-size: 12px; word-wrap: break-word;\">1</h4>\n",
              "            <h4 style=\"font-size: 9px; padding-left: 10px; padding-right: 10px; width: 95%; word-wrap: break-word; white-space: normal;\">https://tlk.s3.yandex.net/sdc/photos/3fe812d9e30932c3e658c8f4a13c9447.jpg</h4><img src=\"https://tlk.s3.yandex.net/sdc/photos/3fe812d9e30932c3e658c8f4a13c9447.jpg\"/>\n",
              "            <a href=\"#!\">\n",
              "                <span class=\"ipyplot-img-close\"/>\n",
              "            </a>\n",
              "            <a href=\"#ipyplot-content-div-UactVRkXY5e4iXaBEJy9LV-2ZL9St6UGjrFEsnyGfBUoM\">\n",
              "                <span class=\"ipyplot-img-expand\"/>\n",
              "            </a>\n",
              "        </div>\n",
              "    </div>\n",
              "    \n",
              "    <div class=\"ipyplot-placeholder-div-UactVRkXY5e4iXaBEJy9LV\">\n",
              "        <div id=\"ipyplot-content-div-UactVRkXY5e4iXaBEJy9LV-6qPwwpgR4PRWcAETu7Wiqf\" class=\"ipyplot-content-div-UactVRkXY5e4iXaBEJy9LV\">\n",
              "            <h4 style=\"font-size: 12px; word-wrap: break-word;\">2</h4>\n",
              "            <h4 style=\"font-size: 9px; padding-left: 10px; padding-right: 10px; width: 95%; word-wrap: break-word; white-space: normal;\">https://tlk.s3.yandex.net/sdc/photos/3ff2178ffa42fc1dc46c99f4bf2d6071.jpg</h4><img src=\"https://tlk.s3.yandex.net/sdc/photos/3ff2178ffa42fc1dc46c99f4bf2d6071.jpg\"/>\n",
              "            <a href=\"#!\">\n",
              "                <span class=\"ipyplot-img-close\"/>\n",
              "            </a>\n",
              "            <a href=\"#ipyplot-content-div-UactVRkXY5e4iXaBEJy9LV-6qPwwpgR4PRWcAETu7Wiqf\">\n",
              "                <span class=\"ipyplot-img-expand\"/>\n",
              "            </a>\n",
              "        </div>\n",
              "    </div>\n",
              "    \n",
              "    <div class=\"ipyplot-placeholder-div-UactVRkXY5e4iXaBEJy9LV\">\n",
              "        <div id=\"ipyplot-content-div-UactVRkXY5e4iXaBEJy9LV-6dptsYs7umvBUHScASBvN4\" class=\"ipyplot-content-div-UactVRkXY5e4iXaBEJy9LV\">\n",
              "            <h4 style=\"font-size: 12px; word-wrap: break-word;\">3</h4>\n",
              "            <h4 style=\"font-size: 9px; padding-left: 10px; padding-right: 10px; width: 95%; word-wrap: break-word; white-space: normal;\">https://tlk.s3.yandex.net/sdc/photos/2bcfb65cf865ecae95228af51fbb203b.jpg</h4><img src=\"https://tlk.s3.yandex.net/sdc/photos/2bcfb65cf865ecae95228af51fbb203b.jpg\"/>\n",
              "            <a href=\"#!\">\n",
              "                <span class=\"ipyplot-img-close\"/>\n",
              "            </a>\n",
              "            <a href=\"#ipyplot-content-div-UactVRkXY5e4iXaBEJy9LV-6dptsYs7umvBUHScASBvN4\">\n",
              "                <span class=\"ipyplot-img-expand\"/>\n",
              "            </a>\n",
              "        </div>\n",
              "    </div>\n",
              "    \n",
              "    <div class=\"ipyplot-placeholder-div-UactVRkXY5e4iXaBEJy9LV\">\n",
              "        <div id=\"ipyplot-content-div-UactVRkXY5e4iXaBEJy9LV-h6N7EzQBDDfki25Bj8SXHc\" class=\"ipyplot-content-div-UactVRkXY5e4iXaBEJy9LV\">\n",
              "            <h4 style=\"font-size: 12px; word-wrap: break-word;\">4</h4>\n",
              "            <h4 style=\"font-size: 9px; padding-left: 10px; padding-right: 10px; width: 95%; word-wrap: break-word; white-space: normal;\">https://tlk.s3.yandex.net/sdc/photos/2e8e12c697358bd104da2eec47c41594.jpg</h4><img src=\"https://tlk.s3.yandex.net/sdc/photos/2e8e12c697358bd104da2eec47c41594.jpg\"/>\n",
              "            <a href=\"#!\">\n",
              "                <span class=\"ipyplot-img-close\"/>\n",
              "            </a>\n",
              "            <a href=\"#ipyplot-content-div-UactVRkXY5e4iXaBEJy9LV-h6N7EzQBDDfki25Bj8SXHc\">\n",
              "                <span class=\"ipyplot-img-expand\"/>\n",
              "            </a>\n",
              "        </div>\n",
              "    </div>\n",
              "    </div>"
            ]
          },
          "metadata": {}
        }
      ],
      "source": [
        "!curl https://tlk.s3.yandex.net/dataset/road_signs.tsv --output dataset.tsv\n",
        "\n",
        "# Load the dataset of links to a pd DataFrame\n",
        "dataset = pd.read_csv('dataset.tsv', sep='\\t')\n",
        "\n",
        "# Plot 5 images from dataset to verify data loading\n",
        "ipyplot.plot_images(\n",
        "    [url for url in dataset['image'].sample(n=50)],\n",
        "    max_images=5,\n",
        "    img_width=1000\n",
        ")"
      ]
    },
    {
      "cell_type": "markdown",
      "metadata": {
        "id": "Xjyg8R6-MXXh"
      },
      "source": [
        "---\n",
        "---\n",
        "## Create a new detection project\n",
        "\n",
        "In this project, performers select image areas that contain traffic signs.\n",
        "\n",
        "The first step is to configure how performers will see the tasks:\n",
        "* write instructions,\n",
        "* define the input and output formats.\n",
        "\n",
        "**Note:** It's important to write clear instructions with examples to make sure the performers do exactly what we want. We also recommend checking the task interface."
      ]
    },
    {
      "cell_type": "code",
      "execution_count": 4,
      "metadata": {
        "id": "4yDMpuI7MXXi"
      },
      "outputs": [],
      "source": [
        "# How performers will see the task\n",
        "project_interface = toloka.project.TemplateBuilderViewSpec(\n",
        "    view=tb.ImageAnnotationFieldV1(  # Component that selects areas in images\n",
        "        tb.OutputData('result'),  # Path for writing output data\n",
        "        tb.InputData('image'),  # Getter for the input image\n",
        "        shapes={'rectangle': True},  # Allow to select only rectangular areas\n",
        "        validation=tb.RequiredConditionV1(hint='Please select an area')  # At least one area should be selected\n",
        "    )\n",
        ")\n",
        "\n",
        "# You can write instructions and upload them from a file or enter them later in the web interface\n",
        "# prepared_instruction = open('instruction.html').read().strip()\n",
        "prepared_instruction = '<b>Outline each traffic sign with a separate bounding box(rectangle).</b>'\n",
        "\n",
        "# Set up the project\n",
        "detection_project = toloka.Project(\n",
        "    public_name='Outline all traffic signs with bounding boxes',\n",
        "    public_description='Find and outline all traffic signs with bounding boxes.',\n",
        "    public_instructions=prepared_instruction,\n",
        "    # Set up the task: view, input, and output parameters\n",
        "    task_spec=toloka.project.task_spec.TaskSpec(\n",
        "        input_spec={'image': toloka.project.UrlSpec()},\n",
        "        output_spec={'result': toloka.project.JsonSpec()},\n",
        "        view_spec=project_interface,\n",
        "    ),\n",
        ")"
      ]
    },
    {
      "cell_type": "markdown",
      "metadata": {
        "pycharm": {
          "name": "#%% md\n"
        },
        "id": "Ghd8fUj2MXXj"
      },
      "source": [
        "Call the API to create a new project."
      ]
    },
    {
      "cell_type": "code",
      "source": [
        "try:\n",
        "  detection_project = toloka_client.get_project(114335)\n",
        "  print(\"Get project\")\n",
        "except toloka_client.exceptions.DoesNotExistApiError:\n",
        "  detection_project = toloka_client.create_project(detection_project)"
      ],
      "metadata": {
        "id": "lzQeeFy4cX9a",
        "outputId": "2834c491-0297-4f2a-ad86-025ef6dd4015",
        "colab": {
          "base_uri": "https://localhost:8080/"
        }
      },
      "execution_count": 4,
      "outputs": [
        {
          "output_type": "stream",
          "name": "stdout",
          "text": [
            "Get project\n"
          ]
        }
      ]
    },
    {
      "cell_type": "markdown",
      "metadata": {
        "id": "JZXEwX3oMXXk"
      },
      "source": [
        "### Review your project and check the task interface\n",
        "\n",
        "Visit the project page to make sure the task interface is working correctly.\n",
        "\n",
        "To do this:\n",
        "\n",
        "1. Follow the link in the output above.\n",
        "2. In the project interface, click **Project actions** on the top right.\n",
        "3. Click **Preview** in the menu that appears.\n",
        "4. Click **Change input data**.\n",
        "5. Insert an image URL (for example, `https://tlk.s3.yandex.net/sdc/photos/0b35956a9afc639a71045f09745096de.jpg`) into the `image` field.\n",
        "6. Click the **Instructions** button. Make sure the instructions are shown and valid.\n",
        "7. Try to select multiple areas with a rectangle using **Box annotation tool**.\n",
        "8. Click **Submit** and then **View responses**.\n",
        "\n",
        "The result window will appear. Check that your results are in the expected format and that the data is being entered correctly.\n",
        "\n",
        "<table  align=\"center\">\n",
        "  <tr><td>\n",
        "    <img src=\"https://github.com/Toloka/toloka-kit/blob/main/examples/1.computer_vision/object_detection/img/segmentation_results_preview.png?raw=1\"\n",
        "         alt=\"Task interface\"  width=\"800\">\n",
        "  </td></tr>\n",
        "  <tr><td align=\"center\">\n",
        "    <b>Figure 3.</b> What the results window might look like\n",
        "  </td></tr>\n",
        "</table>\n",
        "\n",
        "We strongly recommend to check the task interface and instructions every time you create a project. This helps performers to complete the task correctly and your results to be useful.\n",
        "\n",
        "**Tip:** Do a trial run with a small amount of data. Make sure that after running the entire pipeline, you get data in the expected format and quality."
      ]
    },
    {
      "cell_type": "markdown",
      "metadata": {
        "id": "tN_WIvm2MXXl"
      },
      "source": [
        "### Add custom skills for performers\n",
        "\n",
        "A skill can describe any characteristic of the performer. Skills are defined by a number from 0 to 100. For example, you can record the percentage of correct responses as a skill. Learn more about [skills](https://toloka.ai/docs/guide/concepts/nav.html?utm_source=github&utm_medium=site&utm_campaign=tolokakit).\n",
        "\n",
        "In this project, we'll create two skills:\n",
        "- **Detection skill**: Shows the performer completed at least one detection task. We'll later filter out these performers from verification tasks, so that no one can check their own detection.\n",
        "- **Verification skill**: How good the current performer is, when compared to others. We'll need this skill later when aggregating the results of the second project."
      ]
    },
    {
      "cell_type": "code",
      "execution_count": 7,
      "metadata": {
        "id": "8xDpmVbqMXXl",
        "colab": {
          "base_uri": "https://localhost:8080/"
        },
        "outputId": "c4aa370a-1339-4e6b-9684-9e6736b8a11a"
      },
      "outputs": [
        {
          "output_type": "stream",
          "name": "stdout",
          "text": [
            "Detection skill already exists\n",
            "Verification skill already exists\n"
          ]
        }
      ],
      "source": [
        "detection_skill = next(toloka_client.get_skills(name='Area selection of road signs'), None)\n",
        "if detection_skill:\n",
        "    print('Detection skill already exists')\n",
        "else:\n",
        "    detection_skill = toloka_client.create_skill(\n",
        "        name='Area selection of road signs',\n",
        "        hidden=True,\n",
        "        public_requester_description={'EN': 'Performer is annotating road signs'},\n",
        "    )\n",
        "\n",
        "verification_skill = next(toloka_client.get_skills(name='Verification skill'), None)\n",
        "if verification_skill:\n",
        "    print('Verification skill already exists')\n",
        "else:\n",
        "  verification_skill = toloka_client.create_skill(\n",
        "      name='Verification skill',\n",
        "      hidden=True,\n",
        "      public_requester_description={'EN': 'Performer is annotating road signs'},\n",
        "  )"
      ]
    },
    {
      "cell_type": "markdown",
      "metadata": {
        "id": "sFioCnNbMXXm"
      },
      "source": [
        "### Pool creation for a detection project\n",
        "A pool is a set of paid tasks sent out for performers.\n",
        "\n",
        "First, create an instance of the pool and set the basic parameters:\n",
        "- Payment amount per task.\n",
        "- Non-automatic acceptance of results.\n",
        "- Number of tasks performers will see on one page.\n",
        "- Performer's filter: control who can access this task.\n",
        "\n",
        "More about configuring and running pools in:\n",
        "* [Toloka Kit](https://toloka.ai/docs/toloka-kit/source/toloka.client.pool.html?utm_source=github&utm_medium=site&utm_campaign=tolokakit)\n",
        "* [Help](https://toloka.ai/docs/guide/concepts/pool-main.html?utm_source=github&utm_medium=site&utm_campaign=tolokakit)\n",
        "* [Toloka API](https://toloka.ai/docs/api/create-pool.html?utm_source=github&utm_medium=site&utm_campaign=tolokakit)"
      ]
    },
    {
      "cell_type": "code",
      "execution_count": 11,
      "metadata": {
        "id": "hs0YYvdYMXXn"
      },
      "outputs": [],
      "source": [
        "detection_pool = toloka.Pool(\n",
        "    project_id=detection_project.id,\n",
        "    private_name='Pool 1',  # Only you can see this information.\n",
        "    may_contain_adult_content=False,\n",
        "    will_expire=datetime.datetime.utcnow() + datetime.timedelta(days=365),  # Pool will automatically close after one year\n",
        "    reward_per_assignment=0.01,     # Set the minimum payment amount for one task page\n",
        "    auto_accept_solutions=False,    # Only pay the performer for completing the task,\n",
        "                                    # based on the verification results of the second project.\n",
        "\n",
        "    auto_accept_period_day=7,       # Number of days to determine if we'll pay for task completion by this performer or not.\n",
        "    assignment_max_duration_seconds=60*20,  # Give performers 20 minutes maximum to complete one task page.\n",
        "    defaults=toloka.pool.Pool.Defaults(\n",
        "        # We don't need overlapping for detection tasks, so we set it to 1\n",
        "        default_overlap_for_new_task_suites=1,\n",
        "        default_overlap_for_new_tasks=1,\n",
        "    ),\n",
        ")\n",
        "\n",
        "# Set the number of tasks per page\n",
        "detection_pool.set_mixer_config(real_tasks_count=1)\n",
        "# Please note that the payment amount specified when creating the pool is the amount the performer receives for completing one page of tasks.\n",
        "# If you specify 10 tasks per page above, then reward_per_assignment will be paid for completing 10 tasks."
      ]
    },
    {
      "cell_type": "markdown",
      "metadata": {
        "id": "ZQLz9Yc5MXXn"
      },
      "source": [
        "We'll only show our tasks to English-speaking users because the description of the task is in English.\n",
        "This means that only people who speak English will be able to accept this task."
      ]
    },
    {
      "cell_type": "code",
      "execution_count": 12,
      "metadata": {
        "id": "4l9CyLZYMXXo"
      },
      "outputs": [],
      "source": [
        "detection_pool.filter = toloka.filter.Languages.in_('EN')"
      ]
    },
    {
      "cell_type": "markdown",
      "metadata": {
        "id": "r73e9u_UMXXp"
      },
      "source": [
        "**Quality control rules**\n",
        "\n",
        "View a detailed description of our quality control rules [in documentation](https://toloka.ai/docs/guide/concepts/control.html?utm_source=github&utm_medium=site&utm_campaign=tolokakit).\n",
        "\n",
        "Each quality control rule consists of the following:\n",
        "- **Collector**: How to collect statistics and which metrics can be used in this rule.\n",
        "- **Condition**: When the rule will be triggered. Under this condition, only parameters that apply to the collector can be used.\n",
        "- **Action**: What to do if the condition is true."
      ]
    },
    {
      "cell_type": "code",
      "execution_count": 13,
      "metadata": {
        "id": "y_I-s5CmMXXp",
        "outputId": "3ae01337-4a87-481a-de7b-6297043a5a8a",
        "colab": {
          "base_uri": "https://localhost:8080/"
        }
      },
      "outputs": [
        {
          "output_type": "stream",
          "name": "stdout",
          "text": [
            "Quality rules count: 4\n"
          ]
        }
      ],
      "source": [
        "# The first rule in this project restricts pool access for performers who often make mistakes\n",
        "detection_pool.quality_control.add_action(\n",
        "    collector=toloka.collectors.AcceptanceRate(),\n",
        "    conditions=[\n",
        "        # Performer completed more than 2 tasks\n",
        "        toloka.conditions.TotalAssignmentsCount > 2,\n",
        "        # And more than 35% of their responses were rejected\n",
        "        toloka.conditions.RejectedAssignmentsRate > 35,\n",
        "    ],\n",
        "    # This action tells Toloka what to do if the condition above is True\n",
        "    # In our case, we'll restrict access for 15 days\n",
        "    # Always leave a comment: it may be useful later on\n",
        "    action=toloka.actions.RestrictionV2(\n",
        "        scope='ALL_PROJECTS',\n",
        "        duration=15,\n",
        "        duration_unit='DAYS',\n",
        "        private_comment='Performer often make mistakes',  # Only you will see this comment\n",
        "    )\n",
        ")\n",
        "\n",
        "# The second useful rule is \"Fast responses\". It allows us to filter out performers who respond too quickly.\n",
        "detection_pool.quality_control.add_action(\n",
        "    # Let's monitor fast submissions for the last 5 completed task pages\n",
        "    # And define ones that take less than 20 seconds as quick responses.\n",
        "    collector=toloka.collectors.AssignmentSubmitTime(history_size=5, fast_submit_threshold_seconds=20),\n",
        "    # If we see more than one fast response, we ban the performer from all our projects for 10 days.\n",
        "    conditions=[toloka.conditions.FastSubmittedCount > 1],\n",
        "    action=toloka.actions.RestrictionV2(\n",
        "        scope='ALL_PROJECTS',\n",
        "        duration=10,\n",
        "        duration_unit='DAYS',\n",
        "        private_comment='Fast responses',  # Only you will see this comment\n",
        "    )\n",
        ")\n",
        "\n",
        "# Another rule we use is for automatically updating skills\n",
        "# We update the detection skill for performers who complete at least one page of tasks from detection pool.\n",
        "detection_pool.quality_control.add_action(\n",
        "    collector=toloka.collectors.AnswerCount(),\n",
        "    # If performer completed at least one task, it sets the new skill to 1\n",
        "    conditions=[toloka.conditions.AssignmentsAcceptedCount > 0],\n",
        "    action=toloka.actions.SetSkill(skill_id=detection_skill.id, skill_value=1),\n",
        ")\n",
        "\n",
        "# This rule sends rejected assignments (tasks that you rejected) to other performers according to specified parameters.\n",
        "detection_pool.quality_control.add_action(\n",
        "    collector=toloka.collectors.AssignmentsAssessment(),\n",
        "    # Check if a task was rejected\n",
        "    conditions=[toloka.conditions.AssessmentEvent == 'REJECT'],\n",
        "    # If the condition is True, add 1 to overlap and open the pool\n",
        "    action=toloka.actions.ChangeOverlap(delta=1, open_pool=True),\n",
        ")\n",
        "\n",
        "print('Quality rules count:', len(detection_pool.quality_control.configs))"
      ]
    },
    {
      "cell_type": "markdown",
      "metadata": {
        "id": "cP7gjKqnMXXq"
      },
      "source": [
        "### Create a pool with all specified conditions\n",
        "\n",
        "Now we call the Toloka API to finally create a pool in the detection project.\n",
        "\n",
        "Afterwards, you can check the pool in the web interface. You'll see there aren't any tasks in it. We'll add them later."
      ]
    },
    {
      "cell_type": "code",
      "execution_count": 14,
      "metadata": {
        "id": "H3Fw0JDdMXXq"
      },
      "outputs": [],
      "source": [
        "detection_pool = toloka_client.create_pool(detection_pool)"
      ]
    },
    {
      "cell_type": "markdown",
      "metadata": {
        "id": "SS7lSChvMXXr"
      },
      "source": [
        "---\n",
        "---\n",
        "## Create a new project for verification\n",
        "In this project, performers will determine if traffic signs were outlined correctly or not.\n",
        "\n",
        "This will be a standard classification project with only two classes: `OK` and `BAD`. We’ll explicitly define these labels as the output values."
      ]
    },
    {
      "cell_type": "code",
      "execution_count": 16,
      "metadata": {
        "id": "eEUI8MCIMXXr"
      },
      "outputs": [],
      "source": [
        "# Configure task interface: how performers will see the task\n",
        "verification_interface = toloka.project.TemplateBuilderViewSpec(\n",
        "    view=tb.ListViewV1(  # List of components that should be positioned from top to bottom in the UI\n",
        "        [\n",
        "            tb.ImageAnnotationFieldV1(  # Image and selected areas to verify\n",
        "                tb.InternalData('selection',\n",
        "                                default=tb.InputData('selection')),  # Use the input field as default value to display the selected areas\n",
        "                tb.InputData('image'),\n",
        "                disabled=True  # Disable adding and deleting areas\n",
        "            ),\n",
        "            tb.RadioGroupFieldV1(  # A component for selecting one value out of several options\n",
        "                tb.OutputData('result'),  # Path for writing output data\n",
        "                [\n",
        "                    tb.GroupFieldOption('OK', 'Yes'),\n",
        "                    tb.GroupFieldOption('BAD', 'No'),\n",
        "                ],\n",
        "                label='Are all traffic signs outlined correctly?',  # Label above the options\n",
        "                validation=tb.RequiredConditionV1()  # Requirement to select one of the options\n",
        "            )\n",
        "        ]\n",
        "    ),\n",
        "    plugins=[\n",
        "        tb.HotkeysPluginV1( # Shortcuts for selecting options using the keyboard\n",
        "            key_1=tb.SetActionV1(tb.OutputData('result'), 'OK'),\n",
        "            key_2=tb.SetActionV1(tb.OutputData('result'), 'BAD')\n",
        "        )\n",
        "    ]\n",
        ")\n",
        "\n",
        "# You can write instructions and upload them from a file or enter them later in the web interface\n",
        "# prepared_instruction = open('instruction.html').read().strip()\n",
        "verification_instruction = '''<b>Look at the image and answer the question:</b><br/>\n",
        "Are all traffic signs outlined correctly?<br/>\n",
        "If they are, click Yes.<br/>\n",
        "If they aren't, click No.<br/>\n",
        "For example, the road signs here are outlined correctly, so the correct answer is Yes.'''\n",
        "\n",
        "# Set up the project\n",
        "verification_project = toloka.Project(\n",
        "    public_name='Are the traffic signs outlined correctly?',\n",
        "    public_description='Look at the image and decide whether or not the traffic signs are outlined correctly',\n",
        "    public_instructions=verification_instruction,\n",
        "    # Set up the task: view, input, and output parameters\n",
        "    task_spec=toloka.project.task_spec.TaskSpec(\n",
        "        input_spec={\n",
        "            'image': toloka.project.UrlSpec(),\n",
        "            'selection': toloka.project.JsonSpec(),\n",
        "            'assignment_id': toloka.project.StringSpec(),\n",
        "        },\n",
        "        # Set allowed_values, we'll use smart mixing to get the results of this project\n",
        "        output_spec={'result': toloka.project.StringSpec(allowed_values=['OK', 'BAD'])},\n",
        "        view_spec=verification_interface,\n",
        "    ),\n",
        ")"
      ]
    },
    {
      "cell_type": "markdown",
      "metadata": {
        "id": "4Y5tZfjNMXXs"
      },
      "source": [
        "Call the API to create a new project"
      ]
    },
    {
      "cell_type": "code",
      "source": [
        "try:\n",
        "  verification_project = toloka_client.get_project(114337)\n",
        "  print(\"Get project\")\n",
        "except toloka_client.exceptions.DoesNotExistApiError:\n",
        "  verification_project = toloka_client.create_project(verification_project)"
      ],
      "metadata": {
        "id": "z2KLTJojfIlx",
        "outputId": "d3a3ce89-8af7-45da-ed75-0944bb65cc6d",
        "colab": {
          "base_uri": "https://localhost:8080/"
        }
      },
      "execution_count": 5,
      "outputs": [
        {
          "output_type": "stream",
          "name": "stdout",
          "text": [
            "Get project\n"
          ]
        }
      ]
    },
    {
      "cell_type": "markdown",
      "metadata": {
        "id": "jcfp3zKcMXXs"
      },
      "source": [
        "Examine created project in the web interface. To do that:\n",
        "\n",
        "1. Follow the link above to check the task interface and instructions.\n",
        "\n",
        "    **Note:** You should see nearly the same interface as in the previous project, only without the ability to select areas.\n",
        "    It's important to make sure that the annotation results from the first project display correctly in the second one.\n",
        "\n",
        "\n",
        "2. Open the task **Preview** in the first project.\n",
        "3. Outline the signs and click **Submit**.\n",
        "4. Copy the result.\n",
        "5. Now open the **Preview** of the second project.\n",
        "6. Click **Change input data** and paste the annotation results in the `selection` field.\n",
        "7. Click **Apply** and make sure the annotation displays correctly."
      ]
    },
    {
      "cell_type": "markdown",
      "metadata": {
        "id": "kxEtCDRQMXXt"
      },
      "source": [
        "### Create and set up a pool in the verification project\n",
        "We will add filter for this pool: specify performers that don't have the detection skill (as they performed in detection tasks). You can combine multiple conditions using the `&` and `|` operators.\n",
        "\n",
        "**Note:** we add two quality control rules with the same collector, but with different conditions and actions."
      ]
    },
    {
      "cell_type": "code",
      "execution_count": 9,
      "metadata": {
        "id": "q9pRf7AyMXXt",
        "outputId": "998c1632-1b3f-4efa-9c2b-c127708d59cb",
        "colab": {
          "base_uri": "https://localhost:8080/"
        }
      },
      "outputs": [
        {
          "output_type": "stream",
          "name": "stdout",
          "text": [
            "Quality rule count:1\n"
          ]
        }
      ],
      "source": [
        "verification_pool = toloka.Pool(\n",
        "    project_id=verification_project.id,\n",
        "    private_name='Pool 1.Road',  # Only you can see this information.\n",
        "    may_contain_adult_content=False,\n",
        "    will_expire=datetime.datetime.utcnow() + datetime.timedelta(days=365),  # Pool will automatically close after one year\n",
        "    reward_per_assignment=0.01,     # Set the minimum payment amount for one task page\n",
        "    assignment_max_duration_seconds=60*20,  # Give performers 20 minutes maximum to complete one task page.\n",
        "    defaults=toloka.pool.Pool.Defaults(\n",
        "        # We don't need overlapping for detection tasks, so we set it to 1\n",
        "        default_overlap_for_new_task_suites=5\n",
        "    ),\n",
        ") # <YOUR CODE>\n",
        "\n",
        "\n",
        "# We'll only show our tasks to English-speaking users because the description of the task is in English.\n",
        "# We also won't allow our verification tasks to be performed by users who performed detection tasks.\n",
        "\n",
        "# language filter and lack of detection skill filter\n",
        "# https://toloka.ai/en/docs/toloka-kit/reference/toloka.client.filter.Languages\n",
        "# https://toloka.ai/en/docs/toloka-kit/reference/toloka.client.filter.Skill\n",
        "\n",
        "verification_pool.filter = (\n",
        "    toloka.filter.Languages.in_('EN') &\n",
        "    (toloka.filter.Skill(detection_skill.id) == None)\n",
        ") # <YOUR CODE>\n",
        "\n",
        "# Set up quality control\n",
        "# Quality is based on the majority of matching responses from performers who completed the same task.\n",
        "\n",
        "# Считать большинством — 2. Смотреть 10 последних ответов. \n",
        "# Если количество ответов ≥ 3  и процент правильных ответов < 50, то заблокировать на проекте  на 7  дней\n",
        "# https://toloka.ai/docs/toloka-kit/reference/toloka.client.collectors.MajorityVote.html?lang=en\n",
        "# https://toloka.ai/en/docs/toloka-kit/reference/toloka.client.conditions.TotalAnswersCount\n",
        "# https://toloka.ai/en/docs/toloka-kit/reference/toloka.client.conditions.CorrectAnswersRate\n",
        "# https://toloka.ai/en/docs/toloka-kit/reference/toloka.client.actions.RestrictionV2\n",
        "\n",
        "verification_pool.quality_control.add_action(\n",
        "    collector=toloka.collectors.MajorityVote(history_size=10, answer_threshold=2),\n",
        "    conditions=[toloka.conditions.TotalAnswersCount >= 3, toloka.conditions.CorrectAnswersRate < 50],\n",
        "    action=toloka.actions.RestrictionV2(\n",
        "        scope='ALL_PROJECTS',\n",
        "        duration=7,\n",
        "        duration_unit='DAYS',\n",
        "        private_comment='Bad quality',  # Only you will see this comment\n",
        "    )\n",
        "\n",
        "\n",
        ") # <YOUR CODE>\n",
        "\n",
        "\n",
        "# Set up the new skill value using MajorityVote.\n",
        "# Depending on the percentage of correct responses, we increase the value of the performer's skill.\n",
        "verification_pool.quality_control.add_action(\n",
        "    collector=toloka.collectors.MajorityVote(answer_threshold=2, history_size=10),\n",
        "    conditions=[\n",
        "        toloka.conditions.TotalAnswersCount > 2,\n",
        "    ],\n",
        "    action=toloka.actions.SetSkillFromOutputField(\n",
        "        skill_id=verification_skill.id,\n",
        "        from_field='correct_answers_rate',\n",
        "    ),\n",
        ")\n",
        "print(f'Quality rule count:{len(verification_pool.quality_control.configs)}')"
      ]
    },
    {
      "cell_type": "markdown",
      "metadata": {
        "id": "w7GrJZwyMXXu"
      },
      "source": [
        "### Create a pool"
      ]
    },
    {
      "cell_type": "code",
      "execution_count": 10,
      "metadata": {
        "id": "S_TBjhTrMXXu"
      },
      "outputs": [],
      "source": [
        "# Set the task count for one page\n",
        "\n",
        "# 10 заданий на странице, выдавать неполную страницу, если заданий не хватило\n",
        "# https://toloka.ai/en/docs/toloka-kit/reference/toloka.client.pool.mixer_config.MixerConfig\n",
        "\n",
        "verification_pool.set_mixer_config(\n",
        "    real_tasks_count=10, force_last_assignment=True\n",
        ") # <YOUR CODE>\n",
        "\n",
        "verification_pool = toloka_client.create_pool(verification_pool)"
      ]
    },
    {
      "cell_type": "markdown",
      "metadata": {
        "id": "7T8icBErMXXv"
      },
      "source": [
        "---\n",
        "---\n",
        "## Add tasks to pools and run the projects\n",
        "At this point, we have configured two projects, and now we can upload the real data that we want to annotate."
      ]
    },
    {
      "cell_type": "code",
      "execution_count": 35,
      "metadata": {
        "id": "eCWKsNwPMXXv"
      },
      "outputs": [],
      "source": [
        "# https://toloka.ai/en/docs/toloka-kit/reference/toloka.client.task.Task.html\n",
        "# Add 100 first images from the dataset\n",
        "\n",
        "tasks = [\n",
        "    toloka.Task(input_values={'image': url}, pool_id=detection_pool.id)\n",
        "    for url in dataset['image'].head(100)\n",
        "] # <YOUR CODE>"
      ]
    },
    {
      "cell_type": "code",
      "source": [
        "# Add tasks to a pool\n",
        "toloka_client.create_tasks(tasks, allow_defaults=True)\n",
        "\n",
        "detection_pool = toloka_client.open_pool(detection_pool.id)"
      ],
      "metadata": {
        "id": "8Rw3OlcAPJOx"
      },
      "execution_count": 36,
      "outputs": []
    },
    {
      "cell_type": "markdown",
      "metadata": {
        "id": "UGdC3JqrMXXv"
      },
      "source": [
        "Visit the pool page in the web interface and make sure everything is ok: the number of tasks is correct, the pool is running, and some tasks may already be completed.\n",
        "\n",
        "<table  align=\"center\">\n",
        "  <tr><td>\n",
        "    <img src=\"https://github.com/Toloka/toloka-kit/blob/main/examples/1.computer_vision/object_detection/img/segmentation_pool_look.png?raw=1\"\n",
        "         alt=\"Pool with tasks\"  width=\"800\">\n",
        "  </td></tr>\n",
        "  <tr><td align=\"center\">\n",
        "    <b>Figure 4.</b> How a running pool may look.\n",
        "  </td></tr>\n",
        "</table>\n"
      ]
    },
    {
      "cell_type": "markdown",
      "metadata": {
        "id": "GikUgaUsMXXw"
      },
      "source": [
        "Toloka performers work really fast, but they still need time to complete their tasks. We’ll use streaming to avoid having to wait until the detection pool closes completely.\n",
        "\n",
        "Remember that you should also review the assignments of the detection pool in the web interface. More about [reviewing assignments](https://toloka.ai/docs/guide/concepts/offline-accept.html?utm_source=github&utm_medium=site&utm_campaign=tolokakit).\n",
        "You can view the status of the pool in the web interface, but this is not very convenient in a real-life project."
      ]
    },
    {
      "cell_type": "code",
      "execution_count": 38,
      "metadata": {
        "id": "ft2nVKlcMXXw"
      },
      "outputs": [],
      "source": [
        "from toloka.streaming import AssignmentsObserver, Pipeline"
      ]
    },
    {
      "cell_type": "code",
      "execution_count": 39,
      "metadata": {
        "id": "QbKoyJGfMXXw"
      },
      "outputs": [],
      "source": [
        "# class for handling submissions in the detection pool\n",
        "class DetectionSubmittedHandler:\n",
        "    def __init__(self, client, verification_pool_id):\n",
        "        self.client = client\n",
        "        self.verification_pool_id = verification_pool_id\n",
        "\n",
        "    # create new tasks for the verification pool\n",
        "    def __call__(self, events: List[AssignmentEvent]) -> None:\n",
        "        verification_tasks = [\n",
        "            toloka.Task(\n",
        "                pool_id=self.verification_pool_id,\n",
        "                input_values={\n",
        "                        'image': event.assignment.tasks[0].input_values['image'],\n",
        "                        'selection': event.assignment.solutions[0].output_values['result'],\n",
        "                        'assignment_id': event.assignment.id,\n",
        "                }\n",
        "            )\n",
        "            for event in events\n",
        "        ]\n",
        "        self.client.create_tasks(verification_tasks, allow_defaults=True, open_pool=True)"
      ]
    },
    {
      "cell_type": "code",
      "execution_count": 40,
      "metadata": {
        "id": "ewwB8SEQMXXx"
      },
      "outputs": [],
      "source": [
        "# class for handling accepted tasks in the verification pool\n",
        "class VerificationDoneHandler:\n",
        "    def __init__(self, client, verification_skill_id):\n",
        "        self.microtasks = pd.DataFrame([], columns=['task', 'label', 'performer'])\n",
        "        self.client = client\n",
        "        self.verification_skill_id = verification_skill_id\n",
        "\n",
        "    # filter out tasks that already have enough overlap and aggregate the result\n",
        "    def __call__(self, events: List[AssignmentEvent]) -> None:\n",
        "        # Initializing data\n",
        "        microtasks = pd.concat([self.microtasks, self.as_frame(events)])\n",
        "        # get user skills for aggregation\n",
        "        skills = pd.Series({\n",
        "            skill.user_id: skill.value\n",
        "            for skill in self.client.get_user_skills(skill_id=self.verification_skill_id)\n",
        "        })\n",
        "\n",
        "        # Filtering all microtasks that have overlap of 5\n",
        "        microtasks['overlap'] = microtasks.groupby('task')['task'].transform('count')\n",
        "        to_aggregate = microtasks[microtasks['overlap'] >= 5]\n",
        "        microtasks = microtasks[microtasks['overlap'] < 5]\n",
        "        aggregated = MajorityVote().fit_predict(to_aggregate, skills)\n",
        "        # Accepting or rejecting assignments\n",
        "        for assignment_id, result in aggregated.items():\n",
        "            if result == 'OK':\n",
        "                self.client.accept_assignment(assignment_id, 'Well done!')\n",
        "            else:\n",
        "                toloka_client.reject_assignment(assignment_id, 'The object wasn\\'t selected or was selected incorrectly.')\n",
        "\n",
        "        # Updating mictotasks\n",
        "        self.microtasks = microtasks[['task', 'label', 'performer']]\n",
        "\n",
        "    # get the data necessary for aggregation\n",
        "    @staticmethod\n",
        "    def as_frame(events: List[AssignmentEvent]) -> pd.DataFrame:\n",
        "        microtasks = [\n",
        "            (task.input_values['assignment_id'], solution.output_values['result'], event.assignment.user_id)\n",
        "            for event in events\n",
        "            for task, solution in zip(event.assignment.tasks, event.assignment.solutions)\n",
        "        ]\n",
        "        return pd.DataFrame(microtasks, columns=['task', 'label', 'performer'])"
      ]
    },
    {
      "cell_type": "markdown",
      "metadata": {
        "id": "YPzPRW37MXXx"
      },
      "source": [
        "We'll create a pipeline with an observer for each pool.\n",
        "\n",
        "Depending on the number of images in the detection pool and the time of day, the whole process can take from a few minutes to almost an hour."
      ]
    },
    {
      "cell_type": "code",
      "execution_count": null,
      "metadata": {
        "id": "wv_Z-9QPMXXy"
      },
      "outputs": [],
      "source": [
        "detection_observer = AssignmentsObserver(toloka_client, detection_pool.id)\n",
        "detection_observer.on_submitted(DetectionSubmittedHandler(toloka_client, verification_pool.id))\n",
        "verification_observer = AssignmentsObserver(toloka_client, verification_pool.id)\n",
        "verification_observer.on_accepted(VerificationDoneHandler(toloka_client, verification_skill.id))\n",
        "\n",
        "pipeline = Pipeline()\n",
        "pipeline.register(detection_observer)\n",
        "pipeline.register(verification_observer)\n",
        "\n",
        "# Google Colab is using a global event pool,\n",
        "# so in order to run our pipeline we have to apply nest_asyncio to create an inner pool\n",
        "if 'google.colab' in str(get_ipython()):\n",
        "    import nest_asyncio, asyncio\n",
        "    nest_asyncio.apply()\n",
        "    asyncio.get_event_loop().run_until_complete(pipeline.run())\n",
        "else:\n",
        "    await pipeline.run()"
      ]
    },
    {
      "cell_type": "markdown",
      "metadata": {
        "id": "mIx0bdaOMXXy"
      },
      "source": [
        "---\n",
        "---\n",
        "## Get the results\n",
        "Now we can download all the accepted tasks from the detection pool and work with them. In this notebook, we'll only show the detection results.\n",
        "You can also [download](https://toloka.ai/docs/guide/concepts/result-of-eval.html?utm_source=github&utm_medium=site&utm_campaign=tolokakit) results as a TSV file from web interface."
      ]
    },
    {
      "cell_type": "code",
      "execution_count": null,
      "metadata": {
        "id": "n13dAziVMXXz"
      },
      "outputs": [],
      "source": [
        "!pip install pillow # To deal with images\n",
        "!pip install requests # To make HTTP requests\n",
        "from PIL import Image, ImageDraw\n",
        "import requests\n",
        "\n",
        "def get_image(url, selection):\n",
        "    raw_image = requests.get(url, stream=True).raw\n",
        "    image = Image.open(raw_image).convert(\"RGBA\")\n",
        "    regions = Image.new('RGBA', image.size, (255,255,255,0))\n",
        "    pencil = ImageDraw.Draw(regions)\n",
        "    for region in selection:\n",
        "        if region['shape'] != 'rectangle':\n",
        "            continue\n",
        "        p1_x = region['left'] * image.size[0]\n",
        "        p1_y = region['top'] * image.size[1]\n",
        "        p2_x = (region['left'] + region['width']) * image.size[0]\n",
        "        p2_y = (region['top'] + region['height']) * image.size[1]\n",
        "        pencil.rectangle((p1_x, p1_y, p2_x, p2_y), fill =(255, 30, 30, int(255*0.5)))\n",
        "    image = Image.alpha_composite(image, regions)\n",
        "    return image\n",
        "\n",
        "detection_result = {}  # We'll store our result here"
      ]
    },
    {
      "cell_type": "code",
      "execution_count": null,
      "metadata": {
        "id": "gcu4aLcOMXXz"
      },
      "outputs": [],
      "source": [
        "max_images = 2\n",
        "images = []\n",
        "\n",
        "if not detection_result:\n",
        "\n",
        "    for assignment in toloka_client.get_assignments(\n",
        "        status='ACCEPTED',\n",
        "        pool_id=detection_pool.id\n",
        "    ):\n",
        "        detection_result[assignment.tasks[0].input_values['image']] = assignment.solutions[0].output_values['result']\n",
        "\n",
        "for i in range(max_images):\n",
        "    url, selection = detection_result.popitem()\n",
        "    image = get_image(url, selection)\n",
        "    images.append(image)\n",
        "\n",
        "ipyplot.plot_images(\n",
        "    images,\n",
        "    max_images=max_images,\n",
        "    img_width=1000\n",
        ")"
      ]
    },
    {
      "cell_type": "markdown",
      "metadata": {
        "id": "5-xBOj2CMXXz"
      },
      "source": [
        "---\n",
        "---\n",
        "## Summary\n",
        "\n",
        "This project consists of the minimum number of settings that will allow you to collect annotated images for your dataset right from Jupyter Notebook.\n",
        "\n",
        "For your future experiments use Toloka Kit [documentation](https://toloka.ai/docs/toloka-kit/index.html?utm_source=github&utm_medium=site&utm_campaign=tolokakit) and check out other [use cases](https://github.com/Toloka/toloka-kit/tree/main/examples).\n"
      ]
    }
  ],
  "metadata": {
    "kernelspec": {
      "display_name": "Python 3 (ipykernel)",
      "language": "python",
      "name": "python3"
    },
    "language_info": {
      "codemirror_mode": {
        "name": "ipython",
        "version": 3
      },
      "file_extension": ".py",
      "mimetype": "text/x-python",
      "name": "python",
      "nbconvert_exporter": "python",
      "pygments_lexer": "ipython3",
      "version": "3.9.7"
    },
    "colab": {
      "provenance": [],
      "collapsed_sections": [],
      "include_colab_link": true
    }
  },
  "nbformat": 4,
  "nbformat_minor": 0
}